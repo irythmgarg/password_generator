{
  "nbformat": 4,
  "nbformat_minor": 0,
  "metadata": {
    "colab": {
      "provenance": [],
      "authorship_tag": "ABX9TyOdLVtn/QYDcH7tS6CIzPPw",
      "include_colab_link": true
    },
    "kernelspec": {
      "name": "python3",
      "display_name": "Python 3"
    },
    "language_info": {
      "name": "python"
    }
  },
  "cells": [
    {
      "cell_type": "markdown",
      "metadata": {
        "id": "view-in-github",
        "colab_type": "text"
      },
      "source": [
        "<a href=\"https://colab.research.google.com/github/irythmgarg/password_generator/blob/main/Password_generator.ipynb\" target=\"_parent\"><img src=\"https://colab.research.google.com/assets/colab-badge.svg\" alt=\"Open In Colab\"/></a>"
      ]
    },
    {
      "cell_type": "markdown",
      "source": [],
      "metadata": {
        "id": "Fq04f2kdgzQh"
      }
    },
    {
      "cell_type": "markdown",
      "source": [
        "# ***PASSWORD GENERATOR ***"
      ],
      "metadata": {
        "id": "OsOnpRs_g33p"
      }
    },
    {
      "cell_type": "code",
      "execution_count": 13,
      "metadata": {
        "colab": {
          "base_uri": "https://localhost:8080/"
        },
        "id": "ua7QxxmzZff_",
        "outputId": "31246202-0115-4320-e083-d76ee9d3924e"
      },
      "outputs": [
        {
          "output_type": "stream",
          "name": "stdout",
          "text": [
            "How long do you want your password to be? 10\n",
            "How many upper case characters do you want in your password? 5\n",
            "How many lower case characters do you want in your password? 1\n",
            "How many special characters do you want in your password? 1\n",
            "How many numerical digits do you want in your password? 3\n",
            "Q8ZDT4V2r'\n"
          ]
        }
      ],
      "source": [
        "# enter the length and other requirments of your password\n",
        "# this programme generates a super random password for you\n",
        "\n",
        "import random\n",
        "total_length=int(input(\"How long do you want your password to be? \")); # length of the password acc to requirment of the user\n",
        "upper_char=int(input(\"How many upper case characters do you want in your password? \"));\n",
        "lower_char=int(input(\"How many lower case characters do you want in your password? \"));\n",
        "special_char=int(input(\"How many special characters do you want in your password? \"));\n",
        "digits_char=int(input(\"How many numerical digits do you want in your password? \"));\n",
        "while(upper_char+lower_char+special_char+digits_char)!=total_length:\n",
        "   total_length=int(input(\"How long do you want your password to be? \")); # length of the password acc to requirment of the user\n",
        "   upper_char=int(input(\"How many upper case characters do you want in your password? \"));\n",
        "   lower_char=int(input(\"How many lower case characters do you want in your password? \"));\n",
        "   special_char=int(input(\"How many special characters do you want in your password? \"));\n",
        "   digits_char=int(input(\"How many numerical digits do you want in your password? \"));\n",
        "total_upper=[chr(i) for i in range(65,91)]; # list of total upper case charecters\n",
        "total_lower=[chr(i) for i in range(97,123)];# list of total lower case charecters\n",
        "total_digits=[str(i) for i in range(10)]; # list of total digits\n",
        "total_special=[chr(i) for i in range(32,48)]; # list of total special charecters\n",
        "upper_list=random.sample(total_upper,upper_char); # choosing random upper case characters\n",
        "lower_list=random.sample(total_lower,lower_char);# choosing random lower case characters\n",
        "special_list=random.sample(total_special,special_char);# choosing special characters\n",
        "digits_list=random.sample(total_digits,digits_char);# choosing random digits\n",
        "total_list=upper_list+lower_list+special_list+digits_list; #adding all to a single list\n",
        "random.shuffle(total_list); #shuffle the single list\n",
        "password=\"\".join(total_list); # join list elements to each other to a single word\n",
        "print(password);"
      ]
    }
  ]
}